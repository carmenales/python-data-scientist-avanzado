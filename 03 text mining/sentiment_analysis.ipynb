{
 "cells": [
  {
   "cell_type": "code",
   "execution_count": null,
   "metadata": {},
   "outputs": [],
   "source": [
    "from sklearn.feature_extraction.text import CountVectorizer\n",
    "from nltk.tokenize import RegexpTokenizer\n",
    "import pandas as pd"
   ]
  },
  {
   "cell_type": "code",
   "execution_count": null,
   "metadata": {},
   "outputs": [],
   "source": [
    "list1 = [\"Bueno\", \"Malo\", \"Malo\", \"Malo\", \"Bueno\", \"Bueno\", \"Malo\", \"Bueno\", \"Bueno\", \"Malo\" ]\n",
    "list2 = [\"Lo recomendaría a todos mis amigos\",\n",
    "         \"Es el peor producto que he comprado nunca\",\n",
    "         \"Ni loco compraría este producto\",\n",
    "         \"No se lo recomendaría ni a mi enemigo\", \n",
    "         \"Es un buen producto, sí que lo recomendaría\", \n",
    "         \"Me ha encantado\", \n",
    "         \"Es una basura absoluta, ni me molesté en lavarlo, lo tiré directamente\", \n",
    "         \"El enemigo público número uno de la suciedad\", \n",
    "         \"Es un producto genial, se lo recomendaría a todos los compradores\", \n",
    "         \"Hay que estar loco para comprar esta basura\"]"
   ]
  },
  {
   "cell_type": "code",
   "execution_count": null,
   "metadata": {},
   "outputs": [],
   "source": [
    "df = pd.DataFrame({\"Sentimiento\": list1, \"Valoracion\": list2})"
   ]
  },
  {
   "cell_type": "code",
   "execution_count": null,
   "metadata": {},
   "outputs": [],
   "source": [
    "token = RegexpTokenizer(r'[a-zA-Z0-9]+')\n",
    "cv = CountVectorizer(lowercase=True, ngram_range=(1,2), tokenizer=token.tokenize)\n",
    "text_counts = cv.fit_transform(df[\"Valoracion\"])"
   ]
  },
  {
   "cell_type": "code",
   "execution_count": null,
   "metadata": {},
   "outputs": [],
   "source": [
    "print(text_counts)"
   ]
  },
  {
   "cell_type": "code",
   "execution_count": null,
   "metadata": {},
   "outputs": [],
   "source": []
  }
 ],
 "metadata": {
  "interpreter": {
   "hash": "ac59ebe37160ed0dfa835113d9b8498d9f09ceb179beaac4002f036b9467c963"
  },
  "kernelspec": {
   "display_name": "Python 3.9.1 64-bit",
   "language": "python",
   "name": "python3"
  },
  "language_info": {
   "codemirror_mode": {
    "name": "ipython",
    "version": 3
   },
   "file_extension": ".py",
   "mimetype": "text/x-python",
   "name": "python",
   "nbconvert_exporter": "python",
   "pygments_lexer": "ipython3",
   "version": "3.9.1"
  },
  "orig_nbformat": 4
 },
 "nbformat": 4,
 "nbformat_minor": 2
}
