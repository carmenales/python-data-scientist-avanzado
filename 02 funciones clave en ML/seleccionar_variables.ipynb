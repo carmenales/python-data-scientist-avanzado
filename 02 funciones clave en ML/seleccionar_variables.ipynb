{
 "cells": [
  {
   "cell_type": "code",
   "execution_count": null,
   "metadata": {},
   "outputs": [],
   "source": [
    "import pandas as pd\n",
    "from sklearn import linear_model\n",
    "import statsmodels.api as sm"
   ]
  },
  {
   "cell_type": "code",
   "execution_count": null,
   "metadata": {},
   "outputs": [],
   "source": [
    "data = pd.read_csv('base_datos_2008.csv')"
   ]
  },
  {
   "cell_type": "code",
   "execution_count": null,
   "metadata": {},
   "outputs": [],
   "source": [
    "df = data.dropna(subset=[\"AirTime\", \"Distance\", \"TaxiIn\", \"TaxiOut\", \"DayOfWeek\", \"DayofMonth\", \"Month\", \"DepDelay\", \"WeatherDelay\"])\n",
    "df = df.sample(frac=1).head(1000)"
   ]
  },
  {
   "cell_type": "code",
   "execution_count": null,
   "metadata": {},
   "outputs": [],
   "source": [
    "def regression_model(X, Y):\n",
    "    regression = linear_model.LinearRegression()\n",
    "    regression.fit(X, Y)\n",
    "    predictions = regression.predict(X)\n",
    "    X2 = sm.add_constant(X)\n",
    "    est = sm.OLS(Y, X2)\n",
    "    est2 = est.fit()\n",
    "    print(est2.summary())"
   ]
  },
  {
   "cell_type": "code",
   "execution_count": null,
   "metadata": {},
   "outputs": [],
   "source": [
    "# Model 1\n",
    "X = df[[\"AirTime\", \"Distance\", \"TaxiIn\", \"TaxiOut\", \"DayOfWeek\", \"DayofMonth\", \"Month\", \"DepDelay\", \"WeatherDelay\"]]\n",
    "Y = df[\"ArrDelay\"]\n",
    "regression_model(X, Y)"
   ]
  },
  {
   "cell_type": "code",
   "execution_count": null,
   "metadata": {},
   "outputs": [],
   "source": [
    "# Model 2\n",
    "X2 = df[[\"AirTime\", \"Distance\", \"TaxiIn\", \"TaxiOut\", \"DayOfWeek\", \"Month\", \"DepDelay\", \"WeatherDelay\"]]\n",
    "regression_model(X2, Y)"
   ]
  },
  {
   "cell_type": "code",
   "execution_count": null,
   "metadata": {},
   "outputs": [],
   "source": [
    "# Model 3\n",
    "X3 = df[[\"AirTime\", \"Distance\", \"TaxiIn\", \"TaxiOut\", \"Month\", \"DepDelay\", \"WeatherDelay\"]]\n",
    "regression_model(X3, Y)"
   ]
  },
  {
   "cell_type": "code",
   "execution_count": null,
   "metadata": {},
   "outputs": [],
   "source": [
    "# Model 4\n",
    "X4 = df[[\"AirTime\", \"Distance\", \"TaxiIn\", \"TaxiOut\", \"DepDelay\", \"WeatherDelay\"]]\n",
    "regression_model(X4, Y)"
   ]
  },
  {
   "cell_type": "code",
   "execution_count": null,
   "metadata": {},
   "outputs": [],
   "source": [
    "# Model 5\n",
    "X5 = df[[\"AirTime\", \"Distance\", \"TaxiIn\", \"TaxiOut\", \"DepDelay\"]]\n",
    "regression_model(X5, Y)"
   ]
  }
 ],
 "metadata": {
  "interpreter": {
   "hash": "ac59ebe37160ed0dfa835113d9b8498d9f09ceb179beaac4002f036b9467c963"
  },
  "kernelspec": {
   "display_name": "Python 3.9.1 64-bit",
   "language": "python",
   "name": "python3"
  },
  "language_info": {
   "codemirror_mode": {
    "name": "ipython",
    "version": 3
   },
   "file_extension": ".py",
   "mimetype": "text/x-python",
   "name": "python",
   "nbconvert_exporter": "python",
   "pygments_lexer": "ipython3",
   "version": "3.9.1"
  },
  "orig_nbformat": 4
 },
 "nbformat": 4,
 "nbformat_minor": 2
}
