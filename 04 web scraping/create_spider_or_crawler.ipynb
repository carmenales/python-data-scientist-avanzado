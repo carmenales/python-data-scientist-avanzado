{
 "cells": [
  {
   "cell_type": "code",
   "execution_count": 1,
   "metadata": {},
   "outputs": [],
   "source": [
    "from bs4 import BeautifulSoup\n",
    "import requests, re, time"
   ]
  },
  {
   "cell_type": "code",
   "execution_count": null,
   "metadata": {},
   "outputs": [],
   "source": [
    "web = requests.get(\"https://es.wikipedia.org/wiki/Python\")\n",
    "soup = BeautifulSoup(web.content, \"html.parser\")"
   ]
  },
  {
   "cell_type": "code",
   "execution_count": null,
   "metadata": {},
   "outputs": [],
   "source": [
    "explored_links_list = set()\n",
    "list_links_to_explore = set()\n",
    "\n",
    "baselink = \"https://es.wikipedia.org\""
   ]
  },
  {
   "cell_type": "code",
   "execution_count": null,
   "metadata": {},
   "outputs": [],
   "source": [
    "for link in soup.findAll(\"a\"):\n",
    "    if str(link.get(\"href\"))[0] == \"/\" and str(link.get(\"href\"))[1] != \"/\":\n",
    "        print(baselink + link.get(\"href\"))"
   ]
  },
  {
   "cell_type": "code",
   "execution_count": null,
   "metadata": {},
   "outputs": [],
   "source": [
    "for link in soup.findAll(\"a\"):\n",
    "    if str(link.get(\"href\"))[0] == \"/\" and str(link.get(\"href\"))[1] != \"/\" and baselink + link.get(\"href\") not in explored_links_list:\n",
    "        list_links_to_explore.add(baselink + link.get(\"href\"))"
   ]
  },
  {
   "cell_type": "code",
   "execution_count": null,
   "metadata": {},
   "outputs": [],
   "source": [
    "list_links_to_explore"
   ]
  },
  {
   "cell_type": "code",
   "execution_count": null,
   "metadata": {},
   "outputs": [],
   "source": [
    "while(len(list_links_to_explore) != 0):\n",
    "    link = list_links_to_explore.pop()\n",
    "    soup = BeautifulSoup(web.content, \"html.parser\")\n",
    "    print(\"Links explorados: \", len(explored_links_list), \"; Links por explorar: \", len(list_links_to_explore))\n",
    "    list_links_to_explore.add(link)\n",
    "    time.sleep(1)\n",
    "    for link in soup.findAll(\"a\"):\n",
    "        if str(link.get(\"href\"))[0] == \"/\" and str(link.get(\"href\"))[1] != \"/\" and baselink + link.get(\"href\") not in explored_links_list:\n",
    "            list_links_to_explore.add(baselink + link.get(\"href\"))"
   ]
  },
  {
   "cell_type": "code",
   "execution_count": null,
   "metadata": {},
   "outputs": [],
   "source": [
    "explored_links_list"
   ]
  }
 ],
 "metadata": {
  "interpreter": {
   "hash": "ac59ebe37160ed0dfa835113d9b8498d9f09ceb179beaac4002f036b9467c963"
  },
  "kernelspec": {
   "display_name": "Python 3.9.1 64-bit",
   "language": "python",
   "name": "python3"
  },
  "language_info": {
   "codemirror_mode": {
    "name": "ipython",
    "version": 3
   },
   "file_extension": ".py",
   "mimetype": "text/x-python",
   "name": "python",
   "nbconvert_exporter": "python",
   "pygments_lexer": "ipython3",
   "version": "3.9.1"
  },
  "orig_nbformat": 4
 },
 "nbformat": 4,
 "nbformat_minor": 2
}
